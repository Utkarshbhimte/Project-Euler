{
 "cells": [
  {
   "cell_type": "code",
   "execution_count": 13,
   "metadata": {
    "collapsed": false
   },
   "outputs": [
    {
     "name": "stdout",
     "output_type": "stream",
     "text": [
      "sqSum 338350 sum 25502500\n",
      "ans 25164150\n"
     ]
    }
   ],
   "source": [
    "# The sum of the squares of the first ten natural numbers is,\n",
    "\n",
    "# 12 + 22 + ... + 102 = 385\n",
    "# The square of the sum of the first ten natural numbers is,\n",
    "\n",
    "# (1 + 2 + ... + 10)2 = 552 = 3025\n",
    "# Hence the difference between the sum of the squares of the first ten natural numbers and the square of the sum is 3025 − 385 = 2640.\n",
    "\n",
    "# Find the difference between the sum of the squares of the first one hundred natural numbers and the square of the sum.\n",
    "\n",
    "sum = 0\n",
    "sqSum = 0\n",
    "\n",
    "for i in xrange(1, 101):\n",
    "    sum += i\n",
    "    sqSum += i*i\n",
    "\n",
    "sum = sum*sum\n",
    "print 'sqSum', sqSum,'sum', sum\n",
    "print 'ans', sum - sqSum"
   ]
  },
  {
   "cell_type": "code",
   "execution_count": null,
   "metadata": {
    "collapsed": true
   },
   "outputs": [],
   "source": []
  }
 ],
 "metadata": {
  "kernelspec": {
   "display_name": "Python 2",
   "language": "python",
   "name": "python2"
  },
  "language_info": {
   "codemirror_mode": {
    "name": "ipython",
    "version": 2
   },
   "file_extension": ".py",
   "mimetype": "text/x-python",
   "name": "python",
   "nbconvert_exporter": "python",
   "pygments_lexer": "ipython2",
   "version": "2.7.13"
  }
 },
 "nbformat": 4,
 "nbformat_minor": 2
}
