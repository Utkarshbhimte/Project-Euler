{
 "cells": [
  {
   "cell_type": "code",
   "execution_count": null,
   "metadata": {
    "collapsed": false
   },
   "outputs": [],
   "source": [
    "# The prime factors of 13195 are 5, 7, 13 and 29.\n",
    "# What is the largest prime factor of the number 600851475143 ?\n",
    "\n",
    "num = 600851475143\n",
    "primes = []\n",
    "ans = 1\n",
    "i=0\n",
    "\n",
    "def findFactor(num):\n",
    "#     i = 0\n",
    "    for i in range(2, 400000):\n",
    "        if num % i == 0:\n",
    "            print num ,'x ',+ i\n",
    "            num = num / i\n",
    "            primes.append(i)\n",
    "            findFactor(num)\n",
    "            break\n",
    "        \n",
    "findFactor(num)\n",
    "\n",
    "for v in primes:\n",
    "    ans = ans * v\n",
    "print 'done', sorted(set(primes)), ans"
   ]
  },
  {
   "cell_type": "code",
   "execution_count": null,
   "metadata": {
    "collapsed": false
   },
   "outputs": [],
   "source": [
    "print 'started'\n",
    "num = 600851475143\n",
    "# num = 500\n",
    "primes = []\n",
    "ans = 1\n",
    "i=0\n",
    "\n",
    "def findFactor(num):\n",
    "    #     i = 0\n",
    "    for i in range(2, 1000000):\n",
    "        if num % i == 0:\n",
    "            print num ,'/ ',+ i, '=', num/i\n",
    "            num = num / i\n",
    "            primes.append(i)\n",
    "            findFactor(num)\n",
    "            break\n",
    "\n",
    "findFactor(num)\n",
    "\n",
    "for v in primes:\n",
    "    ans = ans * v\n",
    "print 'done', sorted(set(primes)), ans"
   ]
  },
  {
   "cell_type": "code",
   "execution_count": null,
   "metadata": {
    "collapsed": true
   },
   "outputs": [],
   "source": []
  },
  {
   "cell_type": "code",
   "execution_count": null,
   "metadata": {
    "collapsed": true
   },
   "outputs": [],
   "source": []
  }
 ],
 "metadata": {
  "kernelspec": {
   "display_name": "Python 2",
   "language": "python",
   "name": "python2"
  },
  "language_info": {
   "codemirror_mode": {
    "name": "ipython",
    "version": 2
   },
   "file_extension": ".py",
   "mimetype": "text/x-python",
   "name": "python",
   "nbconvert_exporter": "python",
   "pygments_lexer": "ipython2",
   "version": "2.7.13"
  }
 },
 "nbformat": 4,
 "nbformat_minor": 0
}
