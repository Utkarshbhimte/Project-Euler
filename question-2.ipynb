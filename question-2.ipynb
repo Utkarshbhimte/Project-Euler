{
 "cells": [
  {
   "cell_type": "code",
   "execution_count": 5,
   "metadata": {
    "collapsed": false
   },
   "outputs": [
    {
     "name": "stdout",
     "output_type": "stream",
     "text": [
      "1089154\n"
     ]
    }
   ],
   "source": [
    "ans = 0\n",
    "sum = 0\n",
    "prev = 1\n",
    "temp = 0\n",
    "\n",
    "while sum < 1000000:\n",
    "    temp = sum\n",
    "    sum += prev\n",
    "    prev = temp\n",
    "    \n",
    "    if sum % 2 == 0:\n",
    "        ans += sum\n",
    "print ans"
   ]
  },
  {
   "cell_type": "code",
   "execution_count": null,
   "metadata": {
    "collapsed": true
   },
   "outputs": [],
   "source": [
    ""
   ]
  }
 ],
 "metadata": {
  "kernelspec": {
   "display_name": "Python 2",
   "language": "python",
   "name": "python2"
  },
  "language_info": {
   "codemirror_mode": {
    "name": "ipython",
    "version": 2.0
   },
   "file_extension": ".py",
   "mimetype": "text/x-python",
   "name": "python",
   "nbconvert_exporter": "python",
   "pygments_lexer": "ipython2",
   "version": "2.7.13"
  }
 },
 "nbformat": 4,
 "nbformat_minor": 0
}